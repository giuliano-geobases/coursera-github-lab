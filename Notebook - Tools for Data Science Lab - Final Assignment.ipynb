{
 "cells": [
  {
   "cell_type": "markdown",
   "id": "1654fd2d-2dbb-4f29-a312-cebec08b59ff",
   "metadata": {},
   "source": [
    "# Data Science Tools and Ecosystem"
   ]
  },
  {
   "cell_type": "markdown",
   "id": "5b826bf6-8500-4b11-a082-f798bc57fc27",
   "metadata": {},
   "source": [
    "In this notebook, Data Science Tools and Ecosystem are summarized."
   ]
  },
  {
   "cell_type": "markdown",
   "id": "2c617223-e01a-4b8d-9e4f-8e2872c5a5ae",
   "metadata": {},
   "source": [
    "## Objectives of the module 3 of Tolls for Data Science Course:\n",
    "- Define the Watson Studio.\n",
    "- Explain how Watson Studio can streamline data projects and make them easier to manage.\n",
    "- List some of the primary assets included in Watson Studio.\n",
    "- Create a project in Watson Studio and add an interactive Jupyter workbook to work with a real data set. \n",
    "- Link GitHub to Watson Studio and explain when to use public vs. private repositories.\n",
    "- Describe other tools essential to data science and their applications.\n",
    "- Describe Data Refinery and how it benefits the data scientists who use it.\n",
    "- Describe the IBM SSPS Modeler, its usage, and some of the capabilities it offers.\n",
    "- Load and run a sample project in Watson Studio and examine the results.\n",
    "- Use Watson Studio to run an autonumeric model, examine the results and get predictions for new use cases.\n",
    "- Describe the use case for the IBM SPSS Modeler and list a few of its main features.\n",
    "- Summarize the characteristics of the IBM SPSS Statistics software application and its use by data scientists.\n",
    "- Explain how models are deployed into production environments.\n",
    "- Summarize how Auto AI in Watson Studio benefits organizations who lack a fully staffed data science team.\n",
    "- List the features included with IBM Watson and explain how it ensures fairness and explainability of model drift."
   ]
  },
  {
   "cell_type": "markdown",
   "id": "792acd4d-11fd-48b6-8018-13884586491d",
   "metadata": {},
   "source": [
    "Some of the popular languages that Data Scientists use are:\n",
    "<ol>\n",
    "  <li>Python</li>\n",
    "  <li>R</li>\n",
    "  <li>Julia</li>\n",
    "  <li>Scala</li>\n",
    "  <li>SQL</li>\n",
    "</ol>"
   ]
  },
  {
   "cell_type": "markdown",
   "id": "242a7fdf-fb0c-4f92-819e-e58ff572a2cd",
   "metadata": {},
   "source": [
    "Some of the commonly used libraries used by Data Scientists include:\n",
    "TensorFlow\n",
    "<ol>\n",
    "    <li>NumPy</li>\n",
    "    <li>SciPy</li> \n",
    "    <li>Pandas</li>\n",
    "    <li>Matplotlib</li> \n",
    "    <li>Keras</li>\n",
    "    <li>SciKit-Learn</li>\n",
    "    <li>PyTorch</li>\n",
    "    <li>Scrapy</li>\n",
    "    <li>BeautifulSoup</li>\n",
    "</ol>"
   ]
  },
  {
   "cell_type": "markdown",
   "id": "8e9ab1a3-e71c-44ca-9de4-05f7cac3f4f8",
   "metadata": {},
   "source": [
    "Some of the commonly data science tools are:\n",
    "| Data Science Tools |\n",
    "| ------------------ |\n",
    "| RStudio |\n",
    "| Apache Spark |\n",
    "| TensorFlow |\n",
    "| Apache Hadoop |\n",
    "| RapidMinerHeader |\n"
   ]
  },
  {
   "cell_type": "markdown",
   "id": "090f1123-a24b-478d-8cb6-53924b43ebfe",
   "metadata": {},
   "source": [
    "### Below are a few examples of evaluating arithmetic expressions in Python"
   ]
  },
  {
   "cell_type": "code",
   "execution_count": 11,
   "id": "5cf407c6-2e01-462e-8698-25f63f553e9e",
   "metadata": {},
   "outputs": [
    {
     "name": "stdout",
     "output_type": "stream",
     "text": [
      "3125\n"
     ]
    }
   ],
   "source": [
    "# Exponentiation example in Python\n",
    "n1 = 5\n",
    "n2 = 5\n",
    "print(n1 ** n2)"
   ]
  },
  {
   "cell_type": "code",
   "execution_count": 13,
   "id": "20360705-3f41-4a10-b562-7e8889131f09",
   "metadata": {},
   "outputs": [
    {
     "name": "stdout",
     "output_type": "stream",
     "text": [
      "17\n",
      "The status of operation is ==>>  True\n"
     ]
    }
   ],
   "source": [
    "# Example of arithmetic expression to mutiply then add integers\n",
    "arith = (3 * 4) + 5\n",
    "print(arith)\n",
    "print(\"The status of operation is ==>> \", arith == 17)"
   ]
  },
  {
   "cell_type": "code",
   "execution_count": 20,
   "id": "9e1dd270-fda2-484d-8d2f-0d3b6308238d",
   "metadata": {},
   "outputs": [
    {
     "name": "stdout",
     "output_type": "stream",
     "text": [
      "200 minutes is equal to ==>>  3 hours and the rest of 20 minutes.\n"
     ]
    }
   ],
   "source": [
    "# This will convert 200 minutes to hours by dividing by 60\n",
    "print(\"200 minutes is equal to ==>> \", 200 // 60, \"hours\", \"and the rest of\", 200 % 60, \"minutes.\")\n",
    " "
   ]
  },
  {
   "cell_type": "markdown",
   "id": "a5bc0dc9-deb6-467b-ac4a-2323a49a5e75",
   "metadata": {},
   "source": [
    "## Author\n",
    "Giuliano Grigolin"
   ]
  },
  {
   "cell_type": "code",
   "execution_count": null,
   "id": "864db182-63e0-462f-a89a-eb40464226ec",
   "metadata": {},
   "outputs": [],
   "source": []
  }
 ],
 "metadata": {
  "kernelspec": {
   "display_name": "Python",
   "language": "python",
   "name": "conda-env-python-py"
  },
  "language_info": {
   "codemirror_mode": {
    "name": "ipython",
    "version": 3
   },
   "file_extension": ".py",
   "mimetype": "text/x-python",
   "name": "python",
   "nbconvert_exporter": "python",
   "pygments_lexer": "ipython3",
   "version": "3.7.12"
  }
 },
 "nbformat": 4,
 "nbformat_minor": 5
}
